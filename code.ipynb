import pandas as pd
import numpy as np
import matplotlib.pyplot as plt
plt.rcParams['figure.figsize'] = (12.0, 9.0)

# Preprocessing Input data
data = pd.read_csv('data.csv')
X = data.iloc[:, 0].values.reshape(-1, 1)
Y = data.iloc[:, 1].values.reshape(-1, 1)

# Adding a column of ones to X for intercept
X = np.hstack((np.ones_like(X), X))

# Building the model using linear algebra
beta = np.linalg.inv(X.T.dot(X)).dot(X.T).dot(Y)
print(X)
print("\n")
print(X.T)
print("\n")

# Extracting slope and intercept from beta
c, m = beta[0], beta[1]

# Printing the slope and intercept
print(m, c)

# Plotting the data and regression line
plt.scatter(X[:, 1], Y)
plt.plot(X[:, 1], X.dot(beta), color='red')
plt.show()
